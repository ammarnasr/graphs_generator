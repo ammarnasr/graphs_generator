{
  "nbformat": 4,
  "nbformat_minor": 0,
  "metadata": {
    "colab": {
      "name": "pandas_slgl.ipynb",
      "provenance": []
    },
    "kernelspec": {
      "name": "python3",
      "display_name": "Python 3"
    }
  },
  "cells": [
    {
      "cell_type": "code",
      "metadata": {
        "id": "y9lhcpCCPMqB",
        "colab_type": "code",
        "colab": {}
      },
      "source": [
        "import pickle\n",
        "with open('/content/drive/My Drive/slgl/serrD0.pkl', 'rb') as f:\n",
        "    serrD0 = pickle.load(f)\n",
        "\n",
        "\n",
        "with open('/content/drive/My Drive/slgl/serrD1.pkl', 'rb') as f:\n",
        "    serrD1 = pickle.load(f)\n",
        "\n",
        "\n",
        "with open('/content/drive/My Drive/slgl/serrD2.pkl', 'rb') as f:\n",
        "    serrD2 = pickle.load(f)\n",
        "\n",
        "\n",
        "with open('/content/drive/My Drive/slgl/serrD_total.pkl', 'rb') as f:\n",
        "    serrD_total = pickle.load(f)\n",
        "\n",
        "\n",
        "with open('/content/drive/My Drive/slgl/skl_loss.pkl', 'rb') as f:\n",
        "    skl_loss = pickle.load(f)\n",
        "\n",
        "\n",
        "with open('/content/drive/My Drive/slgl/serrG.pkl', 'rb') as f:\n",
        "    serrG = pickle.load(f)\n",
        "\n",
        "\n",
        "with open('/content/drive/My Drive/slgl/serrG_total.pkl', 'rb') as f:\n",
        "    serrG_total = pickle.load(f)"
      ],
      "execution_count": 24,
      "outputs": []
    },
    {
      "cell_type": "code",
      "metadata": {
        "id": "qxNTmMF_8Bvg",
        "colab_type": "code",
        "colab": {}
      },
      "source": [
        "limit = 26962"
      ],
      "execution_count": 16,
      "outputs": []
    },
    {
      "cell_type": "code",
      "metadata": {
        "id": "sozFFzZZ83At",
        "colab_type": "code",
        "colab": {}
      },
      "source": [
        "serrD0      = serrD0      [:limit]\n",
        "serrD1      = serrD1      [:limit]\n",
        "serrD2      = serrD2      [:limit]\n",
        "serrD_total = serrD_total [:limit]\n",
        "skl_loss    = skl_loss    [:limit]\n",
        "serrG       = serrG       [:limit]\n",
        "serrG_total = serrG_total [:limit]"
      ],
      "execution_count": 20,
      "outputs": []
    },
    {
      "cell_type": "code",
      "metadata": {
        "id": "i0soGcYq83IH",
        "colab_type": "code",
        "colab": {}
      },
      "source": [
        "with open('/content/drive/My Drive/slgl/serrD0.pkl', 'wb') as f:\n",
        "    pickle.dump(serrD0, f)\n",
        "\n",
        "with open('/content/drive/My Drive/slgl/serrD1.pkl', 'wb') as f:\n",
        "    pickle.dump(serrD1, f)\n",
        "\n",
        "with open('/content/drive/My Drive/slgl/serrD2.pkl', 'wb') as f:\n",
        "    pickle.dump(serrD2, f)\n",
        "\n",
        "with open('/content/drive/My Drive/slgl/serrD_total.pkl', 'wb') as f:\n",
        "    pickle.dump(serrD_total, f)\n",
        "\n",
        "with open('/content/drive/My Drive/slgl/skl_loss.pkl', 'wb') as f:\n",
        "    pickle.dump(skl_loss, f)\n",
        "\n",
        "with open('/content/drive/My Drive/slgl/serrG.pkl', 'wb') as f:\n",
        "    pickle.dump(serrG, f)\n",
        "\n",
        "with open('/content/drive/My Drive/slgl/serrG_total.pkl', 'wb') as f:\n",
        "    pickle.dump(serrG_total, f)"
      ],
      "execution_count": 22,
      "outputs": []
    },
    {
      "cell_type": "code",
      "metadata": {
        "id": "65iB-J3m6qvv",
        "colab_type": "code",
        "colab": {}
      },
      "source": [
        "epochs = []\n",
        "d = []\n",
        "for i,j in enumerate(serrD0):\n",
        "  if i % 442 == 0 :\n",
        "      epochs.append(int(i/442))\n",
        "      d.append(j)"
      ],
      "execution_count": 26,
      "outputs": []
    },
    {
      "cell_type": "code",
      "metadata": {
        "id": "3B8X6dgSRgHS",
        "colab_type": "code",
        "colab": {}
      },
      "source": [
        "epochs"
      ],
      "execution_count": null,
      "outputs": []
    },
    {
      "cell_type": "code",
      "metadata": {
        "id": "prKQYDb87c6C",
        "colab_type": "code",
        "colab": {}
      },
      "source": [
        "from pandas import DataFrame\n",
        "\n",
        "Data = {'serrD0': d,\n",
        "        'epochs': epochs\n",
        "}\n",
        "df = DataFrame(Data,columns=['epochs', 'serrD0'])\n",
        "df"
      ],
      "execution_count": null,
      "outputs": []
    },
    {
      "cell_type": "code",
      "metadata": {
        "id": "7wmCWOVERqPy",
        "colab_type": "code",
        "colab": {}
      },
      "source": [
        "df.plot(x ='epochs', y='serrD0', kind = 'line')"
      ],
      "execution_count": null,
      "outputs": []
    },
    {
      "cell_type": "code",
      "metadata": {
        "id": "kiIArjjYReZk",
        "colab_type": "code",
        "colab": {}
      },
      "source": [
        "from pandas import DataFrame\n",
        "   \n",
        "Data = {'serrD0': serrD0,\n",
        "        'serrD1': serrD2,\n",
        "        'serrD2': serrD2,\n",
        "        'serrD_total': serrD_total,\n",
        "        'skl_loss': skl_loss,\n",
        "        'serrG': serrG,\n",
        "        'serrG_total': serrG_total,\n",
        "        'epochs': epochs,\n",
        "       }\n",
        "  \n",
        "df = DataFrame(Data,columns=['epochs', 'serrD0', 'serrD1', 'serrD2', 'serrD_total', 'skl_loss', 'serrG', 'serrG_total'])\n",
        "print (df.head())"
      ],
      "execution_count": null,
      "outputs": []
    },
    {
      "cell_type": "code",
      "metadata": {
        "id": "AHrjMTB5R0yi",
        "colab_type": "code",
        "colab": {}
      },
      "source": [
        "plot = df.plot(x ='epochs', y=['serrD_total',  'serrG_total' ], kind = 'line')\n",
        "fig = plot.get_figure()\n",
        "fig.savefig(\"Gen_Dis_loss.png\")"
      ],
      "execution_count": null,
      "outputs": []
    },
    {
      "cell_type": "code",
      "metadata": {
        "id": "prtWpIER8x_v",
        "colab_type": "code",
        "colab": {}
      },
      "source": [
        ""
      ],
      "execution_count": null,
      "outputs": []
    }
  ]
}