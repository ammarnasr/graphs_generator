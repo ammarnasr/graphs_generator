{
  "nbformat": 4,
  "nbformat_minor": 0,
  "metadata": {
    "colab": {
      "name": "pandas.ipynb",
      "provenance": []
    },
    "kernelspec": {
      "name": "python3",
      "display_name": "Python 3"
    }
  },
  "cells": [
    {
      "cell_type": "code",
      "metadata": {
        "id": "y9lhcpCCPMqB",
        "colab_type": "code",
        "colab": {}
      },
      "source": [
        "import pickle\n",
        "with open('/content/drive/My Drive/wldl/tw_loss0.pkl', 'rb') as f:\n",
        "    w_loss0 = pickle.load(f)\n",
        "\n",
        "with open('/content/drive/My Drive/wldl/tw_loss1.pkl', 'rb') as f:\n",
        "    w_loss1 = pickle.load(f)\n",
        "\n",
        "with open('/content/drive/My Drive/wldl/ts_loss0.pkl', 'rb') as f:\n",
        "    s_loss0 = pickle.load(f)\n",
        "\n",
        "with open('/content/drive/My Drive/wldl/ts_loss1.pkl', 'rb') as f:\n",
        "    s_loss1 = pickle.load(f)\n",
        "\n",
        "with open('/content/drive/My Drive/wldl/vw_loss.pkl', 'rb') as f:\n",
        "    w_loss = pickle.load(f)\n",
        "\n",
        "with open('/content/drive/My Drive/wldl/vs_loss.pkl', 'rb') as f:\n",
        "    s_loss = pickle.load(f)\n"
      ],
      "execution_count": 24,
      "outputs": []
    },
    {
      "cell_type": "code",
      "metadata": {
        "id": "KEzaSGdeTjXv",
        "colab_type": "code",
        "colab": {
          "base_uri": "https://localhost:8080/",
          "height": 33
        },
        "outputId": "d96fc785-debb-460d-ddc7-b865d42bab31"
      },
      "source": [
        "print(w_loss0)\n",
        "epochs = []\n",
        "for i,j in enumerate(w_loss0):\n",
        "  epochs.append(i)"
      ],
      "execution_count": 25,
      "outputs": [
        {
          "output_type": "stream",
          "text": [
            "[0.027614510059356688, 0.018497759103775026, 0.017464952468872072, 0.01713182806968689]\n"
          ],
          "name": "stdout"
        }
      ]
    },
    {
      "cell_type": "code",
      "metadata": {
        "id": "3B8X6dgSRgHS",
        "colab_type": "code",
        "colab": {
          "base_uri": "https://localhost:8080/",
          "height": 33
        },
        "outputId": "165589f8-9cfd-472e-eb92-f719b9d3c164"
      },
      "source": [
        "epochs"
      ],
      "execution_count": 26,
      "outputs": [
        {
          "output_type": "execute_result",
          "data": {
            "text/plain": [
              "[0, 1, 2, 3]"
            ]
          },
          "metadata": {
            "tags": []
          },
          "execution_count": 26
        }
      ]
    },
    {
      "cell_type": "code",
      "metadata": {
        "id": "kiIArjjYReZk",
        "colab_type": "code",
        "colab": {
          "base_uri": "https://localhost:8080/",
          "height": 100
        },
        "outputId": "f187e328-826e-48b1-8d1c-fb3b53de772f"
      },
      "source": [
        "from pandas import DataFrame\n",
        "   \n",
        "Data = {'w_loss0': w_loss0,\n",
        "        'w_loss1': w_loss1,\n",
        "        's_loss0': s_loss0,\n",
        "        's_loss1': s_loss1,\n",
        "        'w_loss': w_loss,\n",
        "        's_loss': s_loss,\n",
        "        'epochs': epochs,\n",
        "       }\n",
        "  \n",
        "df = DataFrame(Data,columns=['epochs', 'w_loss0', 'w_loss1', 's_loss0', 's_loss1', 'w_loss', 's_loss'])\n",
        "print (df)"
      ],
      "execution_count": 27,
      "outputs": [
        {
          "output_type": "stream",
          "text": [
            "   epochs   w_loss0   w_loss1   s_loss0   s_loss1    w_loss    s_loss\n",
            "0       0  0.027615  0.020902  0.019718  0.019876  7.475359  7.555136\n",
            "1       1  0.018498  0.018243  0.018416  0.018422  6.944909  7.043615\n",
            "2       2  0.017465  0.017709  0.017357  0.017330  6.547157  6.724352\n",
            "3       3  0.017132  0.017157  0.017094  0.017035  6.366150  6.529415\n"
          ],
          "name": "stdout"
        }
      ]
    },
    {
      "cell_type": "code",
      "metadata": {
        "id": "7wmCWOVERqPy",
        "colab_type": "code",
        "colab": {
          "base_uri": "https://localhost:8080/",
          "height": 296
        },
        "outputId": "4ce093c2-3b0e-4f18-a83f-a073749649ed"
      },
      "source": [
        "df.plot(x ='epochs', y=['w_loss0', 'w_loss1', 's_loss0', 's_loss1', 'w_loss', 's_loss' ], kind = 'line')"
      ],
      "execution_count": 28,
      "outputs": [
        {
          "output_type": "execute_result",
          "data": {
            "text/plain": [
              "<matplotlib.axes._subplots.AxesSubplot at 0x7eff4470a978>"
            ]
          },
          "metadata": {
            "tags": []
          },
          "execution_count": 28
        },
        {
          "output_type": "display_data",
          "data": {
            "image/png": "[encoded data removed]",
            "text/plain": [
              "<Figure size 432x288 with 1 Axes>"
            ]
          },
          "metadata": {
            "tags": [],
            "needs_background": "light"
          }
        }
      ]
    },
    {
      "cell_type": "code",
      "metadata": {
        "id": "AHrjMTB5R0yi",
        "colab_type": "code",
        "colab": {}
      },
      "source": [
        ""
      ],
      "execution_count": null,
      "outputs": []
    }
  ]
}