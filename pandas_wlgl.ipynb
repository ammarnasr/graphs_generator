{
  "nbformat": 4,
  "nbformat_minor": 0,
  "metadata": {
    "colab": {
      "name": "pandas_wlgl.ipynb",
      "provenance": []
    },
    "kernelspec": {
      "name": "python3",
      "display_name": "Python 3"
    }
  },
  "cells": [
    {
      "cell_type": "code",
      "metadata": {
        "id": "y9lhcpCCPMqB",
        "colab_type": "code",
        "colab": {}
      },
      "source": [
        "import pickle\n",
        "with open('/content/drive/My Drive/wlgl/serrD0.pkl', 'rb') as f:\n",
        "    serrD0 = pickle.load(f)\n",
        "\n",
        "\n",
        "with open('/content/drive/My Drive/wlgl/serrD1.pkl', 'rb') as f:\n",
        "    serrD1 = pickle.load(f)\n",
        "\n",
        "\n",
        "with open('/content/drive/My Drive/wlgl/serrD2.pkl', 'rb') as f:\n",
        "    serrD2 = pickle.load(f)\n",
        "\n",
        "\n",
        "with open('/content/drive/My Drive/wlgl/serrD_total.pkl', 'rb') as f:\n",
        "    serrD_total = pickle.load(f)\n",
        "\n",
        "\n",
        "with open('/content/drive/My Drive/wlgl/skl_loss.pkl', 'rb') as f:\n",
        "    skl_loss = pickle.load(f)\n",
        "\n",
        "\n",
        "with open('/content/drive/My Drive/wlgl/serrG.pkl', 'rb') as f:\n",
        "    serrG = pickle.load(f)\n",
        "\n",
        "\n",
        "with open('/content/drive/My Drive/wlgl/serrG_total.pkl', 'rb') as f:\n",
        "    serrG_total = pickle.load(f)"
      ],
      "execution_count": 13,
      "outputs": []
    },
    {
      "cell_type": "code",
      "metadata": {
        "id": "dGdIkUkhAK_X",
        "colab_type": "code",
        "colab": {}
      },
      "source": [
        "limit = 40222"
      ],
      "execution_count": 7,
      "outputs": []
    },
    {
      "cell_type": "code",
      "metadata": {
        "id": "k_VNYdHuAK7h",
        "colab_type": "code",
        "colab": {}
      },
      "source": [
        "serrD0      = serrD0      [:limit]\n",
        "serrD1      = serrD1      [:limit]\n",
        "serrD2      = serrD2      [:limit]\n",
        "serrD_total = serrD_total [:limit]\n",
        "skl_loss    = skl_loss    [:limit]\n",
        "serrG       = serrG       [:limit]\n",
        "serrG_total = serrG_total [:limit]"
      ],
      "execution_count": 8,
      "outputs": []
    },
    {
      "cell_type": "code",
      "metadata": {
        "id": "rpVWi_8tr25C",
        "colab_type": "code",
        "colab": {}
      },
      "source": [
        "with open('/content/drive/My Drive/wlgl/serrD0.pkl', 'wb') as f:\n",
        "    pickle.dump(serrD0, f)\n",
        "\n",
        "with open('/content/drive/My Drive/wlgl/serrD1.pkl', 'wb') as f:\n",
        "    pickle.dump(serrD1, f)\n",
        "\n",
        "with open('/content/drive/My Drive/wlgl/serrD2.pkl', 'wb') as f:\n",
        "    pickle.dump(serrD2, f)\n",
        "\n",
        "with open('/content/drive/My Drive/wlgl/serrD_total.pkl', 'wb') as f:\n",
        "    pickle.dump(serrD_total, f)\n",
        "\n",
        "with open('/content/drive/My Drive/wlgl/skl_loss.pkl', 'wb') as f:\n",
        "    pickle.dump(skl_loss, f)\n",
        "\n",
        "with open('/content/drive/My Drive/wlgl/serrG.pkl', 'wb') as f:\n",
        "    pickle.dump(serrG, f)\n",
        "\n",
        "with open('/content/drive/My Drive/wlgl/serrG_total.pkl', 'wb') as f:\n",
        "    pickle.dump(serrG_total, f)"
      ],
      "execution_count": 12,
      "outputs": []
    },
    {
      "cell_type": "code",
      "metadata": {
        "id": "-g9DCMAPAK0g",
        "colab_type": "code",
        "colab": {}
      },
      "source": [
        ""
      ],
      "execution_count": null,
      "outputs": []
    },
    {
      "cell_type": "code",
      "metadata": {
        "id": "-dji9zhIAvZh",
        "colab_type": "code",
        "colab": {}
      },
      "source": [
        ""
      ],
      "execution_count": null,
      "outputs": []
    },
    {
      "cell_type": "code",
      "metadata": {
        "id": "mrXDJPgJAKn5",
        "colab_type": "code",
        "colab": {}
      },
      "source": [
        "epochs = []\n",
        "d = []\n",
        "for i,j in enumerate(serrD0):\n",
        "  if i % 442 == 0 :\n",
        "      epochs.append(int(i/442))\n",
        "      d.append(j)"
      ],
      "execution_count": 14,
      "outputs": []
    },
    {
      "cell_type": "code",
      "metadata": {
        "id": "3B8X6dgSRgHS",
        "colab_type": "code",
        "colab": {}
      },
      "source": [
        "from pandas import DataFrame\n",
        "\n",
        "Data = {'serrD0': d,\n",
        "        'epochs': epochs\n",
        "}\n",
        "df = DataFrame(Data,columns=['epochs', 'serrD0'])\n",
        "df"
      ],
      "execution_count": null,
      "outputs": []
    },
    {
      "cell_type": "code",
      "metadata": {
        "id": "w77iK5IHA5oN",
        "colab_type": "code",
        "colab": {
          "base_uri": "https://localhost:8080/",
          "height": 296
        },
        "outputId": "06bf3a50-b589-4ef0-8f7e-55def92da262"
      },
      "source": [
        "df.plot(x ='epochs', y='serrD0', kind = 'line')"
      ],
      "execution_count": 18,
      "outputs": [
        {
          "output_type": "execute_result",
          "data": {
            "text/plain": [
              "<matplotlib.axes._subplots.AxesSubplot at 0x7f097598bf60>"
            ]
          },
          "metadata": {
            "tags": []
          },
          "execution_count": 18
        },
        {
          "output_type": "display_data",
          "data": {
            "image/png": "[encoded data removed]",
            "text/plain": [
              "<Figure size 432x288 with 1 Axes>"
            ]
          },
          "metadata": {
            "tags": [],
            "needs_background": "light"
          }
        }
      ]
    },
    {
      "cell_type": "code",
      "metadata": {
        "id": "KEzaSGdeTjXv",
        "colab_type": "code",
        "colab": {}
      },
      "source": [
        "print(serrD1)\n",
        "epochs = []\n",
        "for i,j in enumerate(serrD0):\n",
        "  epochs.append(i)"
      ],
      "execution_count": null,
      "outputs": []
    },
    {
      "cell_type": "code",
      "metadata": {
        "id": "kiIArjjYReZk",
        "colab_type": "code",
        "colab": {}
      },
      "source": [
        "from pandas import DataFrame\n",
        "   \n",
        "Data = {'serrD0': serrD0,\n",
        "        'serrD1': serrD2,\n",
        "        'serrD2': serrD2,\n",
        "        'serrD_total': serrD_total,\n",
        "        'skl_loss': skl_loss,\n",
        "        'serrG': serrG,\n",
        "        'serrG_total': serrG_total,\n",
        "        'epochs': epochs,\n",
        "       }\n",
        "  \n",
        "df = DataFrame(Data,columns=['epochs', 'serrD0', 'serrD1', 'serrD2', 'serrD_total', 'skl_loss', 'serrG', 'serrG_total'])\n",
        "print (df.head())"
      ],
      "execution_count": null,
      "outputs": []
    },
    {
      "cell_type": "code",
      "metadata": {
        "id": "7wmCWOVERqPy",
        "colab_type": "code",
        "colab": {}
      },
      "source": [
        "df.plot(x ='epochs', y=['serrD_total',  'serrG_total' ], kind = 'line')"
      ],
      "execution_count": null,
      "outputs": []
    },
    {
      "cell_type": "code",
      "metadata": {
        "id": "AHrjMTB5R0yi",
        "colab_type": "code",
        "colab": {}
      },
      "source": [
        "plot = df.plot(x ='epochs', y=['serrD_total',  'serrG_total' ], kind = 'line')\n",
        "fig = plot.get_figure()\n",
        "fig.savefig(\"Gen_Dis_loss.png\")"
      ],
      "execution_count": null,
      "outputs": []
    }
  ]
}